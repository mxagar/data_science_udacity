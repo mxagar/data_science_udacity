{
 "cells": [
  {
   "cell_type": "markdown",
   "id": "ab7ee5f1-d004-470a-8c8e-c8fb1437f778",
   "metadata": {},
   "source": [
    "# A/B Testing Use Case"
   ]
  },
  {
   "cell_type": "markdown",
   "id": "83c8b3a0-8412-4ced-bbba-f9ca477dfc41",
   "metadata": {},
   "source": [
    "A software company sells a product which has a 7-day trial period; they expect that the trial testers are likelier to buy the software. They want to experiment which web layout leads to more trial testers, i.e., the structure and the content should invite to join to the 7-day trial period.\n",
    "\n",
    "Steps:\n",
    "\n",
    "1. Design funnel and metrics to track\n",
    "2. Estimate experiment size/duration\n",
    "3. Statistical analysis of the data\n",
    "4. Conclusion: which layout is necessary?\n"
   ]
  },
  {
   "cell_type": "markdown",
   "id": "30913a0f-b57a-46c0-93ce-50fcde5d5a1a",
   "metadata": {},
   "source": [
    "## 1. Funnel and Metrics"
   ]
  },
  {
   "cell_type": "markdown",
   "id": "d8000c39-9fe5-45d5-b8c6-c7b09e94483d",
   "metadata": {},
   "source": [
    "Expected, normal flow:\n",
    "\n",
    "- Visit homepage\n",
    "- Visit download page\n",
    "- Sign up for an account\n",
    "- Download software\n",
    "- After the 7-day trial, the software takes the user to a license-purchase page\n",
    "- Purchase license\n",
    "\n",
    "Atypical events:\n",
    "\n",
    "- Users land in the 7-day trial page from somewhere else\n",
    "- Users buy the license before 7 days\n",
    "- Users buy the license after 7 days\n",
    "\n",
    "We need to choose:\n",
    "\n",
    "- Where to split users into experimental groups: the unit of diversion\n",
    "- Which metrics to track in each step, both invariant and evaluation metrics\n",
    "\n",
    "Diversion methods:\n",
    "\n",
    "- Event-based, i.e., page view: not good here, because if the visitor gets a different view every time he/she opens the page, that's disturbing.\n",
    "- User-ID, i.e., account: not good here, because some users sign in when hitting the download button.\n",
    "- Cookie-based: best choice here; however, typical issues of cookies hold: what if the user accesses via incognito browsing? We assume those issues are insignificant.\n",
    "\n",
    "Metrics:\n",
    "\n",
    "- Number of users at each stage of the funnel/flow.\n",
    "    - Invariant metric: Total number of cookies\n",
    "- Number of licenses bought?\n",
    "    - Evaluation metric: download rate\n",
    "    - Evaluation metric: purchase rate\n",
    "- Is it possible to track software usage statistics?\n"
   ]
  },
  {
   "cell_type": "markdown",
   "id": "9bf20d52-aac1-406e-ba83-64c072124efa",
   "metadata": {},
   "source": [
    "## 2. Experiment Sizing"
   ]
  },
  {
   "cell_type": "markdown",
   "id": "f662fb12-89f1-47dd-8820-ef734166884d",
   "metadata": {},
   "source": [
    "- Invariant metric: 3250 unique visitors/day\n",
    "    - Slightly more on weekdays\n",
    "- Evaluation metric 1: 520 downloads/day: 0.16\n",
    "- Evaluation metric 2: 65 license purchases/day: 0.02"
   ]
  },
  {
   "cell_type": "markdown",
   "id": "4c18f2e9-bf64-46b8-84db-0e1718b76eca",
   "metadata": {},
   "source": [
    "If any evaluation metric 1 / 2 increases significantly, the experiment is successful, i.e., we should deploy the layout that favors the increase. Even in that case we need to apply the Bonferroni correction:\n",
    "\n",
    "`alpha = 0.05 / 2 = 0.025`"
   ]
  },
  {
   "cell_type": "markdown",
   "id": "f45816fd-30ee-4553-bceb-75794ace4444",
   "metadata": {},
   "source": [
    "**However, if we needed to see an increase in both metrics, we wouldn't need to apply Bonferroni - WTF!?**\n",
    "\n",
    "### Questions\n",
    "\n",
    "> 1. Let's say that we want to detect an increase of 50 downloads per day (up to 570 per day, or a .175 rate). How many days of data would we need to collect in order to get enough visitors to detect this new rate at an overall 5% Type I error rate and at 80% power?\n",
    "\n",
    "Using the `experiment_size()` function from the notebook [L2_Experiment_Size_Solution.ipynb](./L2_Experiment_Size_Solution.ipynb) introduced previously:\n",
    "\n",
    "```python\n",
    "experiment_size(p_null=0.16, p_alt=0.175, alpha=0.025, beta=0.2) / 3250\n",
    "# 2.91 -> 3\n",
    "```\n",
    "\n",
    "> 2. What if we wanted to detect an increase of 10 license purchases per day (up to 75 per day, or a .023 rate). How many days of data would we need to collect in order to get enough visitors to detect this new rate at an overall 5% Type I error rate and at 80% power?\n",
    "\n",
    "```python\n",
    "experiment_size(p_null=0.02, p_alt=0.023, alpha=0.025, beta=0.2) / 3250\n",
    "# 10.74 -> 11\n",
    "```\n",
    "\n",
    "The solution has values that are double the ones I got; that is maybe because the formula implementation is *pone-sided*, but the solution is *two-sided*?\n",
    "\n",
    "However, **important note**: consider there is a delay between the implementation and the downloads; maybe the first week after implementation the downloads are due to the UX before the implementation. Thus, we should consider extending slightly the experiment."
   ]
  },
  {
   "cell_type": "markdown",
   "id": "ae5e2c90-2580-4132-8185-58a38201f4e8",
   "metadata": {},
   "source": [
    "## 3. Data Analysis"
   ]
  },
  {
   "cell_type": "markdown",
   "id": "172810e9-c934-4132-8dcb-86509f63085e",
   "metadata": {},
   "source": [
    "Dataset collected during 29 days (21 + 8 days): [`homepage-experiment-data.csv`](./data/homepage-experiment-data.csv)."
   ]
  },
  {
   "cell_type": "code",
   "execution_count": 79,
   "id": "67b22e34-e926-4529-9c6d-3295e1dacb81",
   "metadata": {},
   "outputs": [],
   "source": [
    "import numpy as np\n",
    "import pandas as pd\n",
    "import matplotlib.pyplot as plt\n",
    "import seaborn as sns\n",
    "import scipy.stats.distributions as dist\n",
    "import scipy.stats as stats"
   ]
  },
  {
   "cell_type": "code",
   "execution_count": 2,
   "id": "575f7ea3-df11-4eba-b326-7489bac63457",
   "metadata": {},
   "outputs": [],
   "source": [
    "df = pd.read_csv(\"./data/homepage-experiment-data.csv\")"
   ]
  },
  {
   "cell_type": "code",
   "execution_count": 3,
   "id": "f22a1c07-073a-4dbf-b8f5-f4bc7ff16fc5",
   "metadata": {},
   "outputs": [
    {
     "data": {
      "text/html": [
       "<div>\n",
       "<style scoped>\n",
       "    .dataframe tbody tr th:only-of-type {\n",
       "        vertical-align: middle;\n",
       "    }\n",
       "\n",
       "    .dataframe tbody tr th {\n",
       "        vertical-align: top;\n",
       "    }\n",
       "\n",
       "    .dataframe thead th {\n",
       "        text-align: right;\n",
       "    }\n",
       "</style>\n",
       "<table border=\"1\" class=\"dataframe\">\n",
       "  <thead>\n",
       "    <tr style=\"text-align: right;\">\n",
       "      <th></th>\n",
       "      <th>Day</th>\n",
       "      <th>Control Cookies</th>\n",
       "      <th>Control Downloads</th>\n",
       "      <th>Control Licenses</th>\n",
       "      <th>Experiment Cookies</th>\n",
       "      <th>Experiment Downloads</th>\n",
       "      <th>Experiment Licenses</th>\n",
       "    </tr>\n",
       "  </thead>\n",
       "  <tbody>\n",
       "    <tr>\n",
       "      <th>0</th>\n",
       "      <td>1</td>\n",
       "      <td>1764</td>\n",
       "      <td>246</td>\n",
       "      <td>1</td>\n",
       "      <td>1850</td>\n",
       "      <td>339</td>\n",
       "      <td>3</td>\n",
       "    </tr>\n",
       "    <tr>\n",
       "      <th>1</th>\n",
       "      <td>2</td>\n",
       "      <td>1541</td>\n",
       "      <td>234</td>\n",
       "      <td>2</td>\n",
       "      <td>1590</td>\n",
       "      <td>281</td>\n",
       "      <td>2</td>\n",
       "    </tr>\n",
       "    <tr>\n",
       "      <th>2</th>\n",
       "      <td>3</td>\n",
       "      <td>1457</td>\n",
       "      <td>240</td>\n",
       "      <td>1</td>\n",
       "      <td>1515</td>\n",
       "      <td>274</td>\n",
       "      <td>1</td>\n",
       "    </tr>\n",
       "    <tr>\n",
       "      <th>3</th>\n",
       "      <td>4</td>\n",
       "      <td>1587</td>\n",
       "      <td>224</td>\n",
       "      <td>1</td>\n",
       "      <td>1541</td>\n",
       "      <td>284</td>\n",
       "      <td>2</td>\n",
       "    </tr>\n",
       "    <tr>\n",
       "      <th>4</th>\n",
       "      <td>5</td>\n",
       "      <td>1606</td>\n",
       "      <td>253</td>\n",
       "      <td>2</td>\n",
       "      <td>1643</td>\n",
       "      <td>292</td>\n",
       "      <td>3</td>\n",
       "    </tr>\n",
       "  </tbody>\n",
       "</table>\n",
       "</div>"
      ],
      "text/plain": [
       "   Day  Control Cookies  Control Downloads  Control Licenses  \\\n",
       "0    1             1764                246                 1   \n",
       "1    2             1541                234                 2   \n",
       "2    3             1457                240                 1   \n",
       "3    4             1587                224                 1   \n",
       "4    5             1606                253                 2   \n",
       "\n",
       "   Experiment Cookies  Experiment Downloads  Experiment Licenses  \n",
       "0                1850                   339                    3  \n",
       "1                1590                   281                    2  \n",
       "2                1515                   274                    1  \n",
       "3                1541                   284                    2  \n",
       "4                1643                   292                    3  "
      ]
     },
     "execution_count": 3,
     "metadata": {},
     "output_type": "execute_result"
    }
   ],
   "source": [
    "df.head()"
   ]
  },
  {
   "cell_type": "code",
   "execution_count": 81,
   "id": "31f67055-bb6c-4a7c-bcfc-d9afdf737c8d",
   "metadata": {},
   "outputs": [
    {
     "data": {
      "text/plain": [
       "(29, 7)"
      ]
     },
     "execution_count": 81,
     "metadata": {},
     "output_type": "execute_result"
    }
   ],
   "source": [
    "df.shape"
   ]
  },
  {
   "cell_type": "code",
   "execution_count": 84,
   "id": "75abdb6f-9d90-4167-bedb-1b61ae5ff3f4",
   "metadata": {},
   "outputs": [
    {
     "data": {
      "text/plain": [
       "Day                       435\n",
       "Control Cookies         46851\n",
       "Control Downloads        7554\n",
       "Control Licenses          710\n",
       "Experiment Cookies      47346\n",
       "Experiment Downloads     8548\n",
       "Experiment Licenses       732\n",
       "dtype: int64"
      ]
     },
     "execution_count": 84,
     "metadata": {},
     "output_type": "execute_result"
    }
   ],
   "source": [
    "df.sum()"
   ]
  },
  {
   "cell_type": "markdown",
   "id": "3fff144d-32f0-4087-abaa-939b2880476c",
   "metadata": {},
   "source": [
    "### T-Test Function"
   ]
  },
  {
   "cell_type": "code",
   "execution_count": 12,
   "id": "3fd49893-8d7d-4d17-97d5-fa7cee3b4718",
   "metadata": {},
   "outputs": [],
   "source": [
    "def t_test(subset1, subset2):\n",
    "    '''This function computes the Z Test of two population proportions.\n",
    "    H0: The proportions are the same.\n",
    "    Ha: The proportions are different (two-sided).\n",
    "\n",
    "    Input:\n",
    "        subset1: data frame with values to analyze for subset/group 1\n",
    "        subset1: data frame with values to analyze for subset/group 2\n",
    "    Output:\n",
    "        t_stat: T statistic; if very negative, subset1 has a considerebly smaller mean\n",
    "        p_value: if < 0.05, the difference is significant, the two distribution means are different\n",
    "    '''\n",
    "    \n",
    "    # Sample sizes    \n",
    "    n1 = subset1.shape[0]\n",
    "    n2 = subset2.shape[0]\n",
    "    \n",
    "    # Means\n",
    "    m1 = subset1.mean()\n",
    "    m2 = subset2.mean()\n",
    "\n",
    "    # Standard Deviations\n",
    "    sd1 = subset1.std()\n",
    "    sd2 = subset2.std()\n",
    "\n",
    "    # Standard Error\n",
    "    if sd1/sd2 < 2.0 or sd2/sd1 < 2.0:\n",
    "        # Similar variances: Pooled\n",
    "        se = np.sqrt(((sd1**2)/n1) + ((sd2**2)/n2))\n",
    "    else:\n",
    "        # Different variances: Unpooled\n",
    "        se = np.sqrt(((n1-1)*sd1**2 + (n2-1)*sd2**2)/(n1+n2-2)) * np.sqrt((1/n1) + (1/n2))\n",
    "    \n",
    "    # T statistic\n",
    "    t_stat = (m1 - m2)/se    \n",
    "    # With T and df, we can get the p-value from the T distribution\n",
    "    df = n1 + n2 - 2\n",
    "    # p-value is obtained form the cummulative density function (CDF) with the given df\n",
    "    # since we want the remaining are under the PDF, we need to compute 1-CDF(t)\n",
    "    # Since it is a 2-sided test (Ha !=), we need to x2 the p-value\n",
    "    p_value = 2*(1 - dist.t.cdf(np.abs(t_stat),df=df))\n",
    "    \n",
    "    return (t_stat, p_value, m1, m2)"
   ]
  },
  {
   "cell_type": "markdown",
   "id": "02f5090a-2ea8-4614-a4aa-651de6a198ca",
   "metadata": {},
   "source": [
    "### Z-Test Function"
   ]
  },
  {
   "cell_type": "code",
   "execution_count": 130,
   "id": "0f0b19e8-01a3-414e-b322-5dee28bba465",
   "metadata": {},
   "outputs": [],
   "source": [
    "def z_test(p1, n1, p2, n2):\n",
    "    '''This function computes the Z Test of two population proportions.\n",
    "    H0: The proportions are the same.\n",
    "    Ha: The proportions are different (two-sided).\n",
    "    \n",
    "    Input:\n",
    "        p1: ratio of group 1\n",
    "        n1: size of group 1\n",
    "        p1: ratio of group 2\n",
    "        n1: size of group 2\n",
    "    Output:\n",
    "        z_stat: Z statistic; if very negative, subset1 has a considerebly smaller proportion\n",
    "        p_value: if < 0.05, the difference is significant, the two proportions are different\n",
    "    '''    \n",
    "    if p1 == p2:\n",
    "        print('Warning: same proportions!')\n",
    "\n",
    "    # Estimate of the combined population proportion\n",
    "    phat = (p1*n1 + p2*n2) / (n1 + n2)\n",
    "    \n",
    "    # Estimate of the variance of the combined population proportion\n",
    "    va = phat * (1 - phat)\n",
    "\n",
    "    # Estimate of the standard error of the combined population proportion\n",
    "    se = np.sqrt(va * ((1.0 / n1) + (1.0 / n2)))\n",
    "\n",
    "    # Test statistic and its p-value: 2-sided, because the Ha is !=\n",
    "    z_stat = (p1 - p2) / se\n",
    "    p_value = 2*dist.norm.cdf(-np.abs(z_stat))\n",
    "    # Equivalent to\n",
    "    # p_value = 2*(1-dist.norm.cdf(np.abs(z_stat)))\n",
    "\n",
    "    return (z_stat, p_value, p1, p2)"
   ]
  },
  {
   "cell_type": "markdown",
   "id": "02e274c1-045f-46ec-8d53-159babdba695",
   "metadata": {},
   "source": [
    "### Man-Whitnney"
   ]
  },
  {
   "cell_type": "code",
   "execution_count": 131,
   "id": "c465436c-7eed-456d-9132-1f634460443e",
   "metadata": {},
   "outputs": [],
   "source": [
    "def ranked_sum(x, y, alternative = 'two-sided'):\n",
    "    \"\"\"\n",
    "    Return a p-value for a ranked-sum test, assuming no ties.\n",
    "    \n",
    "    Input parameters:\n",
    "        x: 1-D array-like of data for first group\n",
    "        y: 1-D array-like of data for second group\n",
    "        alternative: type of test to perform, {'two-sided', less', 'greater'}\n",
    "    \n",
    "    Output value:\n",
    "        p: estimated p-value of test\n",
    "    \"\"\"\n",
    "    \n",
    "    # compute U\n",
    "    u = 0\n",
    "    for i in x:\n",
    "        wins = (i > y).sum()\n",
    "        ties = (i == y).sum()\n",
    "        u += wins + 0.5 * ties\n",
    "    \n",
    "    # compute a z-score\n",
    "    n_1 = x.shape[0]\n",
    "    n_2 = y.shape[0]\n",
    "    mean_u = n_1 * n_2 / 2\n",
    "    sd_u = np.sqrt( n_1 * n_2 * (n_1 + n_2 + 1) / 12 )\n",
    "    z = (u - mean_u) / sd_u\n",
    "    \n",
    "    # compute a p-value\n",
    "    if alternative == 'two-sided':\n",
    "        p = 2 * stats.norm.cdf(-np.abs(z))\n",
    "    if alternative == 'less':\n",
    "        p = stats.norm.cdf(z)\n",
    "    elif alternative == 'greater':\n",
    "        p = stats.norm.cdf(-z)\n",
    "    \n",
    "    return p"
   ]
  },
  {
   "cell_type": "markdown",
   "id": "f60d4c27-ee45-4994-8e29-18dbbd64b95e",
   "metadata": {},
   "source": [
    "### Compute Ratios"
   ]
  },
  {
   "cell_type": "code",
   "execution_count": 132,
   "id": "c20604b5-456a-482b-8e1e-75607f6934ce",
   "metadata": {},
   "outputs": [],
   "source": [
    "df_ratios = df.copy()"
   ]
  },
  {
   "cell_type": "code",
   "execution_count": 133,
   "id": "a8cf6b58-3efd-437a-9a5f-3bafae5ee5a8",
   "metadata": {},
   "outputs": [],
   "source": [
    "df_ratios['Control Downloads'] = df_ratios['Control Downloads'] / df_ratios['Control Cookies']\n",
    "df_ratios['Control Licenses'] = df_ratios['Control Licenses'] / df_ratios['Control Cookies']"
   ]
  },
  {
   "cell_type": "code",
   "execution_count": 134,
   "id": "03022a64-c941-43ce-a1b2-28b6864ea3bf",
   "metadata": {},
   "outputs": [],
   "source": [
    "df_ratios['Experiment Downloads'] = df_ratios['Experiment Downloads'] / df_ratios['Experiment Cookies']\n",
    "df_ratios['Experiment Licenses'] = df_ratios['Experiment Licenses'] / df_ratios['Experiment Cookies']"
   ]
  },
  {
   "cell_type": "code",
   "execution_count": 135,
   "id": "2c08f9cd-c344-4bfe-a564-724f293d9ff1",
   "metadata": {},
   "outputs": [
    {
     "data": {
      "text/html": [
       "<div>\n",
       "<style scoped>\n",
       "    .dataframe tbody tr th:only-of-type {\n",
       "        vertical-align: middle;\n",
       "    }\n",
       "\n",
       "    .dataframe tbody tr th {\n",
       "        vertical-align: top;\n",
       "    }\n",
       "\n",
       "    .dataframe thead th {\n",
       "        text-align: right;\n",
       "    }\n",
       "</style>\n",
       "<table border=\"1\" class=\"dataframe\">\n",
       "  <thead>\n",
       "    <tr style=\"text-align: right;\">\n",
       "      <th></th>\n",
       "      <th>Day</th>\n",
       "      <th>Control Cookies</th>\n",
       "      <th>Control Downloads</th>\n",
       "      <th>Control Licenses</th>\n",
       "      <th>Experiment Cookies</th>\n",
       "      <th>Experiment Downloads</th>\n",
       "      <th>Experiment Licenses</th>\n",
       "    </tr>\n",
       "  </thead>\n",
       "  <tbody>\n",
       "    <tr>\n",
       "      <th>0</th>\n",
       "      <td>1</td>\n",
       "      <td>1764</td>\n",
       "      <td>0.139456</td>\n",
       "      <td>0.000567</td>\n",
       "      <td>1850</td>\n",
       "      <td>0.183243</td>\n",
       "      <td>0.001622</td>\n",
       "    </tr>\n",
       "    <tr>\n",
       "      <th>1</th>\n",
       "      <td>2</td>\n",
       "      <td>1541</td>\n",
       "      <td>0.151849</td>\n",
       "      <td>0.001298</td>\n",
       "      <td>1590</td>\n",
       "      <td>0.176730</td>\n",
       "      <td>0.001258</td>\n",
       "    </tr>\n",
       "    <tr>\n",
       "      <th>2</th>\n",
       "      <td>3</td>\n",
       "      <td>1457</td>\n",
       "      <td>0.164722</td>\n",
       "      <td>0.000686</td>\n",
       "      <td>1515</td>\n",
       "      <td>0.180858</td>\n",
       "      <td>0.000660</td>\n",
       "    </tr>\n",
       "    <tr>\n",
       "      <th>3</th>\n",
       "      <td>4</td>\n",
       "      <td>1587</td>\n",
       "      <td>0.141147</td>\n",
       "      <td>0.000630</td>\n",
       "      <td>1541</td>\n",
       "      <td>0.184296</td>\n",
       "      <td>0.001298</td>\n",
       "    </tr>\n",
       "    <tr>\n",
       "      <th>4</th>\n",
       "      <td>5</td>\n",
       "      <td>1606</td>\n",
       "      <td>0.157534</td>\n",
       "      <td>0.001245</td>\n",
       "      <td>1643</td>\n",
       "      <td>0.177724</td>\n",
       "      <td>0.001826</td>\n",
       "    </tr>\n",
       "  </tbody>\n",
       "</table>\n",
       "</div>"
      ],
      "text/plain": [
       "   Day  Control Cookies  Control Downloads  Control Licenses  \\\n",
       "0    1             1764           0.139456          0.000567   \n",
       "1    2             1541           0.151849          0.001298   \n",
       "2    3             1457           0.164722          0.000686   \n",
       "3    4             1587           0.141147          0.000630   \n",
       "4    5             1606           0.157534          0.001245   \n",
       "\n",
       "   Experiment Cookies  Experiment Downloads  Experiment Licenses  \n",
       "0                1850              0.183243             0.001622  \n",
       "1                1590              0.176730             0.001258  \n",
       "2                1515              0.180858             0.000660  \n",
       "3                1541              0.184296             0.001298  \n",
       "4                1643              0.177724             0.001826  "
      ]
     },
     "execution_count": 135,
     "metadata": {},
     "output_type": "execute_result"
    }
   ],
   "source": [
    "df_ratios.head()"
   ]
  },
  {
   "cell_type": "code",
   "execution_count": 136,
   "id": "024565fe-7bb4-4369-86dd-259f5817c727",
   "metadata": {},
   "outputs": [
    {
     "data": {
      "text/plain": [
       "Day                       15.000000\n",
       "Control Cookies         1615.551724\n",
       "Control Downloads          0.161108\n",
       "Control Licenses           0.015195\n",
       "Experiment Cookies      1632.620690\n",
       "Experiment Downloads       0.180693\n",
       "Experiment Licenses        0.015568\n",
       "dtype: float64"
      ]
     },
     "execution_count": 136,
     "metadata": {},
     "output_type": "execute_result"
    }
   ],
   "source": [
    "df_ratios.mean()"
   ]
  },
  {
   "cell_type": "code",
   "execution_count": 137,
   "id": "44f3165a-4c96-437a-8765-7251a3490e0d",
   "metadata": {},
   "outputs": [
    {
     "data": {
      "image/png": "[encoded data removed]",
      "text/plain": [
       "<Figure size 432x288 with 1 Axes>"
      ]
     },
     "metadata": {
      "needs_background": "light"
     },
     "output_type": "display_data"
    }
   ],
   "source": [
    "sns.histplot(df_ratios['Control Cookies'], bins=30, color='r', alpha=0.5)\n",
    "sns.histplot(df_ratios['Experiment Cookies'], bins=30, color='b', alpha=0.5)\n",
    "plt.legend(labels = ['Control', 'Experiment'])\n",
    "plt.title(\"Number of Cookies\")\n",
    "plt.show()"
   ]
  },
  {
   "cell_type": "code",
   "execution_count": 138,
   "id": "ec5413dd-137b-4af1-8461-50237f8dd4b9",
   "metadata": {},
   "outputs": [
    {
     "data": {
      "image/png": "[encoded data removed]",
      "text/plain": [
       "<Figure size 432x288 with 1 Axes>"
      ]
     },
     "metadata": {
      "needs_background": "light"
     },
     "output_type": "display_data"
    }
   ],
   "source": [
    "sns.histplot(df_ratios['Control Downloads'], bins=30, color='r', alpha=0.5)\n",
    "sns.histplot(df_ratios['Experiment Downloads'], bins=30, color='b', alpha=0.5)\n",
    "plt.legend(labels = ['Control', 'Experiment'])\n",
    "plt.title(\"Number of Downloads\")\n",
    "plt.show()"
   ]
  },
  {
   "cell_type": "code",
   "execution_count": 139,
   "id": "49b36dac-5daa-4b18-be83-2fe7de76cd76",
   "metadata": {},
   "outputs": [
    {
     "data": {
      "image/png": "[encoded data removed]",
      "text/plain": [
       "<Figure size 432x288 with 1 Axes>"
      ]
     },
     "metadata": {
      "needs_background": "light"
     },
     "output_type": "display_data"
    }
   ],
   "source": [
    "sns.histplot(df_ratios['Control Licenses'], bins=30, color='r', alpha=0.5)\n",
    "sns.histplot(df_ratios['Experiment Licenses'], bins=30, color='b', alpha=0.5)\n",
    "plt.legend(labels = ['Control', 'Experiment'])\n",
    "plt.title(\"Number of Licenses\")\n",
    "plt.show()"
   ]
  },
  {
   "cell_type": "markdown",
   "id": "2a0e07b1-4606-4b2f-856d-18418cad61d7",
   "metadata": {},
   "source": [
    "### Invariant Metric: Cookies"
   ]
  },
  {
   "cell_type": "code",
   "execution_count": 140,
   "id": "53f6bfd0-edd9-47b0-a826-25426377dd4a",
   "metadata": {},
   "outputs": [],
   "source": [
    "feature_analyze = 'Cookies'\n",
    "subset1 = df_ratios['Control' + ' ' + feature_analyze]\n",
    "subset2 = df_ratios['Experiment' + ' ' + feature_analyze]\n",
    "(t_stat, p_value, m1, m2) = t_test(subset1, subset2)"
   ]
  },
  {
   "cell_type": "code",
   "execution_count": 141,
   "id": "5bee68e6-981d-42fd-8ed1-2300e6682464",
   "metadata": {},
   "outputs": [
    {
     "name": "stdout",
     "output_type": "stream",
     "text": [
      "t_stat = -0.5667703149522242, p_value = 0.5731350217922668, m1 = 1615.551724137931, m2 = 1632.6206896551723\n"
     ]
    }
   ],
   "source": [
    "# The number of cookies seems to be invariant for each group\n",
    "print(f\"t_stat = {t_stat}, p_value = {p_value}, m1 = {m1}, m2 = {m2}\")"
   ]
  },
  {
   "cell_type": "markdown",
   "id": "2480a1f3-9831-4bfb-94f4-4f5ac8c774ff",
   "metadata": {},
   "source": [
    "### Evaluation Metric: Downloads"
   ]
  },
  {
   "cell_type": "code",
   "execution_count": 143,
   "id": "2ce4aca0-6a50-4766-b93a-bba063f82bfe",
   "metadata": {},
   "outputs": [],
   "source": [
    "feature_analyze = 'Downloads'\n",
    "n1 = df['Control' + ' ' + 'Cookies'].sum()\n",
    "n2 = df['Experiment' + ' ' + 'Cookies'].sum()\n",
    "p1 = df['Control' + ' ' + feature_analyze].sum() / n1\n",
    "p2 = df['Experiment' + ' ' + feature_analyze].sum() / n2\n",
    "(z_stat, p_value, p1, p2) = z_test(p1, n1, p2, n2)"
   ]
  },
  {
   "cell_type": "code",
   "execution_count": 144,
   "id": "fe701cf4-e548-4891-878c-d1faa4b9599b",
   "metadata": {},
   "outputs": [
    {
     "name": "stdout",
     "output_type": "stream",
     "text": [
      "z_stat = -7.870833726066236, p_value = 3.5228559273456157e-15, p1 = 0.16123455209067042, p2 = 0.180543234908968\n"
     ]
    }
   ],
   "source": [
    "# Significant difference\n",
    "print(f\"z_stat = {z_stat}, p_value = {p_value}, p1 = {p1}, p2 = {p2}\")"
   ]
  },
  {
   "cell_type": "markdown",
   "id": "b13989ae-459b-44b7-a2df-42bb09a95991",
   "metadata": {},
   "source": [
    "### Evaluation Metric: Licenses"
   ]
  },
  {
   "cell_type": "code",
   "execution_count": 147,
   "id": "f7ceafbc-9387-4375-a260-186196f745ee",
   "metadata": {},
   "outputs": [],
   "source": [
    "feature_analyze = 'Licenses'\n",
    "n1 = df['Control' + ' ' + 'Cookies'].sum()\n",
    "n2 = df['Experiment' + ' ' + 'Cookies'].sum()\n",
    "p1 = df['Control' + ' ' + feature_analyze].sum() / n1\n",
    "p2 = df['Experiment' + ' ' + feature_analyze].sum() / n2\n",
    "(z_stat, p_value, p1, p2) = z_test(p1, n1, p2, n2)"
   ]
  },
  {
   "cell_type": "code",
   "execution_count": 148,
   "id": "5a25ffdc-2596-4024-b1dc-6379ea4cb348",
   "metadata": {},
   "outputs": [
    {
     "name": "stdout",
     "output_type": "stream",
     "text": [
      "z_stat = -0.3827453070441281, p_value = 0.7019086175871928, p1 = 0.01515442573264178, p2 = 0.015460651374984159\n"
     ]
    }
   ],
   "source": [
    "# No difference!\n",
    "print(f\"z_stat = {z_stat}, p_value = {p_value}, p1 = {p1}, p2 = {p2}\")"
   ]
  },
  {
   "cell_type": "code",
   "execution_count": null,
   "id": "dcae8fd0-8532-4706-9617-efe5cd81227e",
   "metadata": {},
   "outputs": [],
   "source": []
  }
 ],
 "metadata": {
  "kernelspec": {
   "display_name": "Python 3 (ipykernel)",
   "language": "python",
   "name": "python3"
  },
  "language_info": {
   "codemirror_mode": {
    "name": "ipython",
    "version": 3
   },
   "file_extension": ".py",
   "mimetype": "text/x-python",
   "name": "python",
   "nbconvert_exporter": "python",
   "pygments_lexer": "ipython3",
   "version": "3.7.13"
  }
 },
 "nbformat": 4,
 "nbformat_minor": 5
}
