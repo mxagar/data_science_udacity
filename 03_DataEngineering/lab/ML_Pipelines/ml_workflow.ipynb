{
 "cells": [
  {
   "cell_type": "markdown",
   "metadata": {},
   "source": [
    "# Machine Learning Workflow\n",
    "Complete the steps below to complete the machine learning workflow for this classifier."
   ]
  },
  {
   "cell_type": "code",
   "execution_count": 1,
   "metadata": {},
   "outputs": [
    {
     "name": "stderr",
     "output_type": "stream",
     "text": [
      "[nltk_data] Downloading package punkt to /Users/mxagar/nltk_data...\n",
      "[nltk_data]   Package punkt is already up-to-date!\n",
      "[nltk_data] Downloading package wordnet to /Users/mxagar/nltk_data...\n",
      "[nltk_data]   Package wordnet is already up-to-date!\n"
     ]
    },
    {
     "data": {
      "text/plain": [
       "True"
      ]
     },
     "execution_count": 1,
     "metadata": {},
     "output_type": "execute_result"
    }
   ],
   "source": [
    "import nltk\n",
    "nltk.download(['punkt', 'wordnet'])"
   ]
  },
  {
   "cell_type": "code",
   "execution_count": 3,
   "metadata": {},
   "outputs": [],
   "source": [
    "import re\n",
    "import pandas as pd\n",
    "from nltk.tokenize import word_tokenize\n",
    "from nltk.stem import WordNetLemmatizer\n",
    "from sklearn.model_selection import train_test_split\n",
    "from sklearn.feature_extraction.text import CountVectorizer,TfidfTransformer\n",
    "from sklearn.ensemble import RandomForestClassifier\n",
    "import numpy as np\n",
    "from sklearn.metrics import confusion_matrix\n"
   ]
  },
  {
   "cell_type": "code",
   "execution_count": 34,
   "metadata": {},
   "outputs": [
    {
     "data": {
      "text/plain": [
       "['mac_turkish',\n",
       " 'cp862',\n",
       " 'iso8859_4',\n",
       " 'mac_greek',\n",
       " 'iso8859_15',\n",
       " 'iso8859_13',\n",
       " 'hp_roman8',\n",
       " 'cp850',\n",
       " 'mac_cyrillic',\n",
       " 'mac_roman',\n",
       " 'cp775',\n",
       " 'cp857',\n",
       " 'cp863',\n",
       " 'cp437',\n",
       " 'mac_iceland',\n",
       " 'cp865',\n",
       " 'latin_1',\n",
       " 'cp866',\n",
       " 'cp855',\n",
       " 'cp860',\n",
       " 'cp861',\n",
       " 'kz1048',\n",
       " 'iso8859_14',\n",
       " 'mac_latin2',\n",
       " 'iso8859_10',\n",
       " 'iso8859_9',\n",
       " 'cp852',\n",
       " 'cp858',\n",
       " 'iso8859_2',\n",
       " 'cp1125',\n",
       " 'iso8859_16',\n",
       " 'cp1256',\n",
       " 'iso8859_5',\n",
       " 'koi8_r',\n",
       " 'ptcp154',\n",
       " 'cp864',\n",
       " 'cp1251']"
      ]
     },
     "execution_count": 34,
     "metadata": {},
     "output_type": "execute_result"
    }
   ],
   "source": [
    "import chardet\n",
    "from encodings.aliases import aliases\n",
    "\n",
    "# Test encodings: get all encodings with which the file can be opened\n",
    "alias_values = set(aliases.values())\n",
    "candidate_encodings = []\n",
    "for alias in alias_values:\n",
    "    try:\n",
    "        df = pd.read_csv('corporate_messaging.csv', encoding=alias)\n",
    "        candidate_encodings.append(alias)\n",
    "    except:\n",
    "         pass\n",
    "candidate_encodings"
   ]
  },
  {
   "cell_type": "code",
   "execution_count": 36,
   "metadata": {},
   "outputs": [
    {
     "name": "stdout",
     "output_type": "stream",
     "text": [
      "mac_turkish todayâğ™s multi\n",
      "cp862 todayי█¬s multi\n",
      "iso8859_4 todayÛĒs multi\n",
      "mac_greek todayâέΣs multi\n",
      "iso8859_15 todayÛªs multi\n",
      "iso8859_13 todayŪŖs multi\n",
      "hp_roman8 todayÜˆs multi\n",
      "cp850 todayë█¬s multi\n",
      "mac_cyrillic todayЙџ™s multi\n",
      "mac_roman todayâ€™s multi\n",
      "cp775 todayē█¬s multi\n",
      "cp857 todayë█¬s multi\n",
      "cp863 todayë█¬s multi\n",
      "cp437 todayë█¬s multi\n",
      "mac_iceland todayâ€™s multi\n",
      "cp865 todayë█¬s multi\n",
      "latin_1 todayÛªs multi\n",
      "cp866 todayЙ█кs multi\n",
      "cp855 todayЅ█фs multi\n",
      "cp860 todayÊ█¬s multi\n",
      "cp861 todayë█¬s multi\n",
      "kz1048 today‰ЫҒs multi\n",
      "iso8859_14 todayÛẂs multi\n",
      "mac_latin2 todayČŘ™s multi\n",
      "iso8859_10 todayÛŠs multi\n",
      "iso8859_9 todayÛªs multi\n",
      "cp852 todayë█¬s multi\n",
      "cp858 todayë█¬s multi\n",
      "iso8859_2 todayŰŞs multi\n",
      "cp1125 todayЙ█кs multi\n",
      "iso8859_16 todayÛȘs multi\n",
      "cp1256 today‰غھs multi\n",
      "iso8859_5 todayлЊs multi\n",
      "koi8_r today┴ш╙s multi\n",
      "ptcp154 todayүЫӘs multi\n",
      "cp864 today┬¦ﺕs multi\n",
      "cp1251 today‰ЫЄs multi\n"
     ]
    }
   ],
   "source": [
    "# Select a part in the text which seems to have issues\n",
    "# and open & print that part with different encodings\n",
    "# In this case, all encodings seem to lead to issues...\n",
    "for encoding in candidate_encodings:\n",
    "    df = pd.read_csv('corporate_messaging.csv', encoding=encoding)\n",
    "    print(encoding, df.text.loc[30][50:65])"
   ]
  },
  {
   "cell_type": "code",
   "execution_count": 45,
   "metadata": {},
   "outputs": [
    {
     "name": "stdout",
     "output_type": "stream",
     "text": [
      "{'encoding': 'MacRoman', 'confidence': 0.69798054614607, 'language': ''}\n"
     ]
    }
   ],
   "source": [
    "# Try encoding with chardet\n",
    "with open(\"corporate_messaging.csv\", 'rb') as file:\n",
    "    print(chardet.detect(file.read()))"
   ]
  },
  {
   "cell_type": "code",
   "execution_count": 47,
   "metadata": {},
   "outputs": [
    {
     "data": {
      "text/html": [
       "<div>\n",
       "<style scoped>\n",
       "    .dataframe tbody tr th:only-of-type {\n",
       "        vertical-align: middle;\n",
       "    }\n",
       "\n",
       "    .dataframe tbody tr th {\n",
       "        vertical-align: top;\n",
       "    }\n",
       "\n",
       "    .dataframe thead th {\n",
       "        text-align: right;\n",
       "    }\n",
       "</style>\n",
       "<table border=\"1\" class=\"dataframe\">\n",
       "  <thead>\n",
       "    <tr style=\"text-align: right;\">\n",
       "      <th></th>\n",
       "      <th>_unit_id</th>\n",
       "      <th>_golden</th>\n",
       "      <th>_unit_state</th>\n",
       "      <th>_trusted_judgments</th>\n",
       "      <th>_last_judgment_at</th>\n",
       "      <th>category</th>\n",
       "      <th>category:confidence</th>\n",
       "      <th>category_gold</th>\n",
       "      <th>id</th>\n",
       "      <th>screenname</th>\n",
       "      <th>text</th>\n",
       "    </tr>\n",
       "  </thead>\n",
       "  <tbody>\n",
       "    <tr>\n",
       "      <th>0</th>\n",
       "      <td>662822308</td>\n",
       "      <td>False</td>\n",
       "      <td>finalized</td>\n",
       "      <td>3</td>\n",
       "      <td>2/18/15 4:31</td>\n",
       "      <td>Information</td>\n",
       "      <td>1.0</td>\n",
       "      <td>NaN</td>\n",
       "      <td>4.365280e+17</td>\n",
       "      <td>Barclays</td>\n",
       "      <td>Barclays CEO stresses the importance of regula...</td>\n",
       "    </tr>\n",
       "    <tr>\n",
       "      <th>1</th>\n",
       "      <td>662822309</td>\n",
       "      <td>False</td>\n",
       "      <td>finalized</td>\n",
       "      <td>3</td>\n",
       "      <td>2/18/15 13:55</td>\n",
       "      <td>Information</td>\n",
       "      <td>1.0</td>\n",
       "      <td>NaN</td>\n",
       "      <td>3.860130e+17</td>\n",
       "      <td>Barclays</td>\n",
       "      <td>Barclays announces result of Rights Issue http...</td>\n",
       "    </tr>\n",
       "    <tr>\n",
       "      <th>2</th>\n",
       "      <td>662822310</td>\n",
       "      <td>False</td>\n",
       "      <td>finalized</td>\n",
       "      <td>3</td>\n",
       "      <td>2/18/15 8:43</td>\n",
       "      <td>Information</td>\n",
       "      <td>1.0</td>\n",
       "      <td>NaN</td>\n",
       "      <td>3.795800e+17</td>\n",
       "      <td>Barclays</td>\n",
       "      <td>Barclays publishes its prospectus for its Â£5....</td>\n",
       "    </tr>\n",
       "    <tr>\n",
       "      <th>3</th>\n",
       "      <td>662822311</td>\n",
       "      <td>False</td>\n",
       "      <td>finalized</td>\n",
       "      <td>3</td>\n",
       "      <td>2/18/15 9:13</td>\n",
       "      <td>Information</td>\n",
       "      <td>1.0</td>\n",
       "      <td>NaN</td>\n",
       "      <td>3.675300e+17</td>\n",
       "      <td>Barclays</td>\n",
       "      <td>Barclays Group Finance Director Chris Lucas is...</td>\n",
       "    </tr>\n",
       "    <tr>\n",
       "      <th>4</th>\n",
       "      <td>662822312</td>\n",
       "      <td>False</td>\n",
       "      <td>finalized</td>\n",
       "      <td>3</td>\n",
       "      <td>2/18/15 6:48</td>\n",
       "      <td>Information</td>\n",
       "      <td>1.0</td>\n",
       "      <td>NaN</td>\n",
       "      <td>3.603850e+17</td>\n",
       "      <td>Barclays</td>\n",
       "      <td>Barclays announces that Irene McDermott Brown ...</td>\n",
       "    </tr>\n",
       "  </tbody>\n",
       "</table>\n",
       "</div>"
      ],
      "text/plain": [
       "    _unit_id  _golden _unit_state  _trusted_judgments _last_judgment_at  \\\n",
       "0  662822308    False   finalized                   3      2/18/15 4:31   \n",
       "1  662822309    False   finalized                   3     2/18/15 13:55   \n",
       "2  662822310    False   finalized                   3      2/18/15 8:43   \n",
       "3  662822311    False   finalized                   3      2/18/15 9:13   \n",
       "4  662822312    False   finalized                   3      2/18/15 6:48   \n",
       "\n",
       "      category  category:confidence category_gold            id screenname  \\\n",
       "0  Information                  1.0           NaN  4.365280e+17   Barclays   \n",
       "1  Information                  1.0           NaN  3.860130e+17   Barclays   \n",
       "2  Information                  1.0           NaN  3.795800e+17   Barclays   \n",
       "3  Information                  1.0           NaN  3.675300e+17   Barclays   \n",
       "4  Information                  1.0           NaN  3.603850e+17   Barclays   \n",
       "\n",
       "                                                text  \n",
       "0  Barclays CEO stresses the importance of regula...  \n",
       "1  Barclays announces result of Rights Issue http...  \n",
       "2  Barclays publishes its prospectus for its Â£5....  \n",
       "3  Barclays Group Finance Director Chris Lucas is...  \n",
       "4  Barclays announces that Irene McDermott Brown ...  "
      ]
     },
     "execution_count": 47,
     "metadata": {},
     "output_type": "execute_result"
    }
   ],
   "source": [
    "df = pd.read_csv('corporate_messaging.csv', encoding='mac_roman')\n",
    "df.head()"
   ]
  },
  {
   "cell_type": "code",
   "execution_count": 49,
   "metadata": {},
   "outputs": [
    {
     "data": {
      "text/plain": [
       "(3118, 11)"
      ]
     },
     "execution_count": 49,
     "metadata": {},
     "output_type": "execute_result"
    }
   ],
   "source": [
    "df.shape"
   ]
  },
  {
   "cell_type": "code",
   "execution_count": 51,
   "metadata": {},
   "outputs": [
    {
     "data": {
      "text/plain": [
       "Information    2129\n",
       "Action          724\n",
       "Dialogue        226\n",
       "Exclude          39\n",
       "Name: category, dtype: int64"
      ]
     },
     "execution_count": 51,
     "metadata": {},
     "output_type": "execute_result"
    }
   ],
   "source": [
    "df.category.value_counts()"
   ]
  },
  {
   "cell_type": "code",
   "execution_count": 38,
   "metadata": {},
   "outputs": [],
   "source": [
    "url_regex = 'http[s]?://(?:[a-zA-Z]|[0-9]|[$-_@.&+]|[!*\\(\\),]|(?:%[0-9a-fA-F][0-9a-fA-F]))+'\n",
    "\n",
    "def load_data():\n",
    "    df = pd.read_csv('corporate_messaging.csv', encoding='mac_roman')\n",
    "    df = df[(df[\"category:confidence\"] == 1) & (df['category'] != 'Exclude')]\n",
    "    X = df.text.values\n",
    "    y = df.category.values\n",
    "    return X, y\n",
    "\n",
    "def tokenize(text):\n",
    "    detected_urls = re.findall(url_regex, text)\n",
    "    for url in detected_urls:\n",
    "        text = text.replace(url, \"urlplaceholder\")\n",
    "\n",
    "    tokens = word_tokenize(text)\n",
    "    lemmatizer = WordNetLemmatizer()\n",
    "\n",
    "    clean_tokens = []\n",
    "    for tok in tokens:\n",
    "        clean_tok = lemmatizer.lemmatize(tok).lower().strip()\n",
    "        clean_tokens.append(clean_tok)\n",
    "\n",
    "    return clean_tokens"
   ]
  },
  {
   "cell_type": "markdown",
   "metadata": {},
   "source": [
    "### Step 1: Load data and perform a train test split"
   ]
  },
  {
   "cell_type": "code",
   "execution_count": 39,
   "metadata": {},
   "outputs": [],
   "source": [
    "# load data\n",
    "X, y = load_data()\n",
    "\n",
    "# perform train test split\n",
    "X_train, X_test, y_train, y_test = train_test_split(X, y)"
   ]
  },
  {
   "cell_type": "markdown",
   "metadata": {},
   "source": [
    "### Step 2: Train classifier\n",
    "* Fit and transform the training data with `CountVectorizer`. Hint: You can include your tokenize function in the `tokenizer` keyword argument!\n",
    "* Fit and transform these word counts with `TfidfTransformer`.\n",
    "* Fit a classifier to these tfidf values."
   ]
  },
  {
   "cell_type": "code",
   "execution_count": 40,
   "metadata": {},
   "outputs": [
    {
     "data": {
      "text/plain": [
       "RandomForestClassifier()"
      ]
     },
     "execution_count": 40,
     "metadata": {},
     "output_type": "execute_result"
    }
   ],
   "source": [
    "# Instantiate transformers and classifier\n",
    "vect = CountVectorizer(tokenizer=tokenize)\n",
    "tfidf = TfidfTransformer()\n",
    "clf = RandomForestClassifier()\n",
    "\n",
    "# Fit and/or transform each to the data\n",
    "X_train_counts = vect.fit_transform(X_train)\n",
    "X_train_tfidf = tfidf.fit_transform(X_train_counts)\n",
    "clf.fit(X_train_tfidf, y_train)\n"
   ]
  },
  {
   "cell_type": "markdown",
   "metadata": {},
   "source": [
    "### Step 3: Predict on test data\n",
    "* Transform (no fitting) the test data with the same CountVectorizer and TfidfTransformer\n",
    "* Predict labels on these tfidf values."
   ]
  },
  {
   "cell_type": "code",
   "execution_count": 41,
   "metadata": {},
   "outputs": [],
   "source": [
    "# Transform test data\n",
    "X_test_counts = vect.transform(X_test)\n",
    "X_test_tfidf = tfidf.transform(X_test_counts)\n",
    "\n",
    "# Predict test labels\n",
    "y_pred = clf.predict(X_test_tfidf)"
   ]
  },
  {
   "cell_type": "markdown",
   "metadata": {},
   "source": [
    "### Step 4: Display results\n",
    "Display a confusion matrix and accuracy score based on the model's predictions."
   ]
  },
  {
   "cell_type": "code",
   "execution_count": 42,
   "metadata": {},
   "outputs": [
    {
     "name": "stdout",
     "output_type": "stream",
     "text": [
      "Labels: ['Action' 'Dialogue' 'Information']\n",
      "Confusion Matrix:\n",
      " [[ 80   0  28]\n",
      " [  0  21   5]\n",
      " [  3   1 463]]\n",
      "Accuracy: 0.9384359400998337\n"
     ]
    }
   ],
   "source": [
    "labels = np.unique(y_pred)\n",
    "confusion_mat = confusion_matrix(y_test, y_pred, labels=labels)\n",
    "accuracy = (y_pred == y_test).mean()\n",
    "\n",
    "print(\"Labels:\", labels)\n",
    "print(\"Confusion Matrix:\\n\", confusion_mat)\n",
    "print(\"Accuracy:\", accuracy)"
   ]
  },
  {
   "cell_type": "markdown",
   "metadata": {},
   "source": [
    "# Final Step: Refactor\n",
    "Organize these steps into the following functions."
   ]
  },
  {
   "cell_type": "code",
   "execution_count": 43,
   "metadata": {},
   "outputs": [],
   "source": [
    "def display_results(y_test, y_pred):\n",
    "    # insert step 4 here\n",
    "    labels = np.unique(y_pred)\n",
    "    confusion_mat = confusion_matrix(y_test, y_pred, labels=labels)\n",
    "    accuracy = (y_pred == y_test).mean()\n",
    "    print(\"Labels:\", labels)\n",
    "    print(\"Confusion Matrix:\\n\", confusion_mat)\n",
    "    print(\"Accuracy:\", accuracy)\n",
    "\n",
    "def main():\n",
    "    # load data\n",
    "    X, y = load_data()\n",
    "\n",
    "    # perform train test split\n",
    "    X_train, X_test, y_train, y_test = train_test_split(X, y)\n",
    "    \n",
    "    # Instantiate transformers and classifier\n",
    "    vect = CountVectorizer(tokenizer=tokenize)\n",
    "    tfidf = TfidfTransformer()\n",
    "    clf = RandomForestClassifier()\n",
    "\n",
    "    # Fit and/or transform each to the data\n",
    "    X_train_counts = vect.fit_transform(X_train)\n",
    "    X_train_tfidf = tfidf.fit_transform(X_train_counts)\n",
    "    clf.fit(X_train_tfidf, y_train)\n",
    "    \n",
    "    # Transform test data\n",
    "    X_test_counts = vect.transform(X_test)\n",
    "    X_test_tfidf = tfidf.transform(X_test_counts)\n",
    "\n",
    "    # Predict test labels\n",
    "    y_pred = clf.predict(X_test_tfidf)\n",
    "     # display results\n",
    "    display_results(y_test, y_pred)"
   ]
  },
  {
   "cell_type": "code",
   "execution_count": 44,
   "metadata": {},
   "outputs": [
    {
     "name": "stdout",
     "output_type": "stream",
     "text": [
      "Labels: ['Action' 'Dialogue' 'Information']\n",
      "Confusion Matrix:\n",
      " [[ 86   0  21]\n",
      " [  3  26   3]\n",
      " [  5   1 456]]\n",
      "Accuracy: 0.9450915141430949\n"
     ]
    }
   ],
   "source": [
    "# run program\n",
    "main()"
   ]
  },
  {
   "cell_type": "code",
   "execution_count": null,
   "metadata": {},
   "outputs": [],
   "source": []
  }
 ],
 "metadata": {
  "kernelspec": {
   "display_name": "Python 3 (ipykernel)",
   "language": "python",
   "name": "python3"
  },
  "language_info": {
   "codemirror_mode": {
    "name": "ipython",
    "version": 3
   },
   "file_extension": ".py",
   "mimetype": "text/x-python",
   "name": "python",
   "nbconvert_exporter": "python",
   "pygments_lexer": "ipython3",
   "version": "3.7.13"
  }
 },
 "nbformat": 4,
 "nbformat_minor": 4
}
